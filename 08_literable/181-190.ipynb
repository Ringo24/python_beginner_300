{
 "cells": [
  {
   "cell_type": "code",
   "execution_count": 1,
   "metadata": {},
   "outputs": [],
   "source": [
    "#181\n",
    "apart = [[\"101ho\", \"102ho\"], [\"201ho\", \"202ho\"], [\"301ho\", \"302ho\"]]"
   ]
  },
  {
   "cell_type": "code",
   "execution_count": 3,
   "metadata": {},
   "outputs": [
    {
     "data": {
      "text/plain": [
       "[['101ho', '102ho'], ['201ho', '202ho'], ['301ho', '302ho']]"
      ]
     },
     "execution_count": 3,
     "metadata": {},
     "output_type": "execute_result"
    }
   ],
   "source": [
    "apart"
   ]
  },
  {
   "cell_type": "code",
   "execution_count": 4,
   "metadata": {},
   "outputs": [],
   "source": [
    "#182\n",
    "stock = [[\"siga\", 100, 200, 300], [\"jonga\", 80, 210, 330]]"
   ]
  },
  {
   "cell_type": "code",
   "execution_count": 5,
   "metadata": {},
   "outputs": [],
   "source": [
    "#183\n",
    "stock = {\"siga\": [100, 200, 300], \"jonga\": [80, 210, 330]}"
   ]
  },
  {
   "cell_type": "code",
   "execution_count": 6,
   "metadata": {},
   "outputs": [
    {
     "data": {
      "text/plain": [
       "{'siga': [100, 200, 300], 'jonga': [80, 210, 330]}"
      ]
     },
     "execution_count": 6,
     "metadata": {},
     "output_type": "execute_result"
    }
   ],
   "source": [
    "stock"
   ]
  },
  {
   "cell_type": "code",
   "execution_count": 7,
   "metadata": {},
   "outputs": [],
   "source": [
    "#184\n",
    "stock = {'10/10': [80, 110, 70, 90], '10/11': [210, 230, 190, 200]}"
   ]
  },
  {
   "cell_type": "code",
   "execution_count": 8,
   "metadata": {},
   "outputs": [],
   "source": [
    "#185\n",
    "apart = [[101, 102], [201, 202], [301, 302]]"
   ]
  },
  {
   "cell_type": "code",
   "execution_count": 10,
   "metadata": {},
   "outputs": [
    {
     "name": "stdout",
     "output_type": "stream",
     "text": [
      "101 ho\n",
      "102 ho\n",
      "201 ho\n",
      "202 ho\n",
      "301 ho\n",
      "302 ho\n"
     ]
    }
   ],
   "source": [
    "for i in apart:\n",
    "    for j in i:\n",
    "        print(j, \"ho\")"
   ]
  },
  {
   "cell_type": "code",
   "execution_count": 14,
   "metadata": {},
   "outputs": [
    {
     "name": "stdout",
     "output_type": "stream",
     "text": [
      "301 Ho\n",
      "302 Ho\n",
      "201 Ho\n",
      "202 Ho\n",
      "101 Ho\n",
      "102 Ho\n"
     ]
    }
   ],
   "source": [
    "#186\n",
    "for i in range(len(apart)):\n",
    "    for j in apart[len(apart) - 1 - i]:\n",
    "        print(j, \"Ho\")"
   ]
  },
  {
   "cell_type": "code",
   "execution_count": 15,
   "metadata": {},
   "outputs": [
    {
     "name": "stdout",
     "output_type": "stream",
     "text": [
      "301 Ho\n",
      "302 Ho\n",
      "201 Ho\n",
      "202 Ho\n",
      "101 Ho\n",
      "102 Ho\n"
     ]
    }
   ],
   "source": [
    "for i in apart[::-1]:\n",
    "    for j in i:\n",
    "        print(j, \"Ho\")"
   ]
  },
  {
   "cell_type": "code",
   "execution_count": 16,
   "metadata": {},
   "outputs": [
    {
     "name": "stdout",
     "output_type": "stream",
     "text": [
      "302 Ho\n",
      "301 Ho\n",
      "202 Ho\n",
      "201 Ho\n",
      "102 Ho\n",
      "101 Ho\n"
     ]
    }
   ],
   "source": [
    "#187\n",
    "for i in apart[::-1]:\n",
    "    for j in i[::-1]:\n",
    "        print(j, \"Ho\")"
   ]
  },
  {
   "cell_type": "code",
   "execution_count": 19,
   "metadata": {},
   "outputs": [
    {
     "name": "stdout",
     "output_type": "stream",
     "text": [
      "101 Ho\n",
      "-----\n",
      "102 Ho\n",
      "-----\n",
      "201 Ho\n",
      "-----\n",
      "202 Ho\n",
      "-----\n",
      "301 Ho\n",
      "-----\n",
      "302 Ho\n",
      "-----\n"
     ]
    }
   ],
   "source": [
    "#188\n",
    "for i in apart:\n",
    "    for j in i:\n",
    "        print(j, \"Ho\")\n",
    "        print(\"-----\")"
   ]
  },
  {
   "cell_type": "code",
   "execution_count": 20,
   "metadata": {},
   "outputs": [
    {
     "name": "stdout",
     "output_type": "stream",
     "text": [
      "101 Ho\n",
      "102 Ho\n",
      "-----\n",
      "201 Ho\n",
      "202 Ho\n",
      "-----\n",
      "301 Ho\n",
      "302 Ho\n",
      "-----\n"
     ]
    }
   ],
   "source": [
    "#189\n",
    "for i in apart:\n",
    "    for j in i:\n",
    "        print(j, \"Ho\")\n",
    "    print(\"-\" * 5)"
   ]
  },
  {
   "cell_type": "code",
   "execution_count": 21,
   "metadata": {},
   "outputs": [
    {
     "name": "stdout",
     "output_type": "stream",
     "text": [
      "101 Ho\n",
      "102 Ho\n",
      "201 Ho\n",
      "202 Ho\n",
      "301 Ho\n",
      "302 Ho\n",
      "-----\n"
     ]
    }
   ],
   "source": [
    "#190\n",
    "for i in apart:\n",
    "    for j in i:\n",
    "        print(j, \"Ho\")\n",
    "print(\"-\" * 5)"
   ]
  },
  {
   "cell_type": "code",
   "execution_count": null,
   "metadata": {},
   "outputs": [],
   "source": []
  }
 ],
 "metadata": {
  "kernelspec": {
   "display_name": "Python 3",
   "language": "python",
   "name": "python3"
  },
  "language_info": {
   "codemirror_mode": {
    "name": "ipython",
    "version": 3
   },
   "file_extension": ".py",
   "mimetype": "text/x-python",
   "name": "python",
   "nbconvert_exporter": "python",
   "pygments_lexer": "ipython3",
   "version": "3.7.9"
  }
 },
 "nbformat": 4,
 "nbformat_minor": 4
}

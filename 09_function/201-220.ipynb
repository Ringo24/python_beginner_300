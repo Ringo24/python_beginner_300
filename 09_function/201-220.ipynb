{
 "cells": [
  {
   "cell_type": "code",
   "execution_count": 1,
   "metadata": {},
   "outputs": [],
   "source": [
    "#201\n",
    "def print_coin():\n",
    "    print(\"bitcoin\")"
   ]
  },
  {
   "cell_type": "code",
   "execution_count": 2,
   "metadata": {},
   "outputs": [
    {
     "name": "stdout",
     "output_type": "stream",
     "text": [
      "bitcoin\n"
     ]
    }
   ],
   "source": [
    "#202\n",
    "print_coin()"
   ]
  },
  {
   "cell_type": "code",
   "execution_count": 3,
   "metadata": {
    "scrolled": true
   },
   "outputs": [
    {
     "name": "stdout",
     "output_type": "stream",
     "text": [
      "bitcoin\n",
      "bitcoin\n",
      "bitcoin\n",
      "bitcoin\n",
      "bitcoin\n",
      "bitcoin\n",
      "bitcoin\n",
      "bitcoin\n",
      "bitcoin\n",
      "bitcoin\n",
      "bitcoin\n",
      "bitcoin\n",
      "bitcoin\n",
      "bitcoin\n",
      "bitcoin\n",
      "bitcoin\n",
      "bitcoin\n",
      "bitcoin\n",
      "bitcoin\n",
      "bitcoin\n",
      "bitcoin\n",
      "bitcoin\n",
      "bitcoin\n",
      "bitcoin\n",
      "bitcoin\n",
      "bitcoin\n",
      "bitcoin\n",
      "bitcoin\n",
      "bitcoin\n",
      "bitcoin\n",
      "bitcoin\n",
      "bitcoin\n",
      "bitcoin\n",
      "bitcoin\n",
      "bitcoin\n",
      "bitcoin\n",
      "bitcoin\n",
      "bitcoin\n",
      "bitcoin\n",
      "bitcoin\n",
      "bitcoin\n",
      "bitcoin\n",
      "bitcoin\n",
      "bitcoin\n",
      "bitcoin\n",
      "bitcoin\n",
      "bitcoin\n",
      "bitcoin\n",
      "bitcoin\n",
      "bitcoin\n",
      "bitcoin\n",
      "bitcoin\n",
      "bitcoin\n",
      "bitcoin\n",
      "bitcoin\n",
      "bitcoin\n",
      "bitcoin\n",
      "bitcoin\n",
      "bitcoin\n",
      "bitcoin\n",
      "bitcoin\n",
      "bitcoin\n",
      "bitcoin\n",
      "bitcoin\n",
      "bitcoin\n",
      "bitcoin\n",
      "bitcoin\n",
      "bitcoin\n",
      "bitcoin\n",
      "bitcoin\n",
      "bitcoin\n",
      "bitcoin\n",
      "bitcoin\n",
      "bitcoin\n",
      "bitcoin\n",
      "bitcoin\n",
      "bitcoin\n",
      "bitcoin\n",
      "bitcoin\n",
      "bitcoin\n",
      "bitcoin\n",
      "bitcoin\n",
      "bitcoin\n",
      "bitcoin\n",
      "bitcoin\n",
      "bitcoin\n",
      "bitcoin\n",
      "bitcoin\n",
      "bitcoin\n",
      "bitcoin\n",
      "bitcoin\n",
      "bitcoin\n",
      "bitcoin\n",
      "bitcoin\n",
      "bitcoin\n",
      "bitcoin\n",
      "bitcoin\n",
      "bitcoin\n",
      "bitcoin\n",
      "bitcoin\n"
     ]
    }
   ],
   "source": [
    "#203\n",
    "for i in range(100):\n",
    "    print_coin()"
   ]
  },
  {
   "cell_type": "code",
   "execution_count": 4,
   "metadata": {},
   "outputs": [],
   "source": [
    "#204\n",
    "def print_coins():\n",
    "    for i in range(100):\n",
    "        print(\"bitcoin\")"
   ]
  },
  {
   "cell_type": "code",
   "execution_count": 1,
   "metadata": {},
   "outputs": [],
   "source": [
    "#215\n",
    "def print_with_smile(str):\n",
    "    print(str + ':D')"
   ]
  },
  {
   "cell_type": "code",
   "execution_count": 2,
   "metadata": {},
   "outputs": [
    {
     "name": "stdout",
     "output_type": "stream",
     "text": [
      "안녕하세요:D\n"
     ]
    }
   ],
   "source": [
    "#216\n",
    "print_with_smile(\"안녕하세요\")"
   ]
  },
  {
   "cell_type": "code",
   "execution_count": 3,
   "metadata": {},
   "outputs": [],
   "source": [
    "#217\n",
    "def print_upper_price(price):\n",
    "    print(price * 1.3)"
   ]
  },
  {
   "cell_type": "code",
   "execution_count": 4,
   "metadata": {},
   "outputs": [],
   "source": [
    "#218\n",
    "def print_sum(x, y):\n",
    "    print(x + y)"
   ]
  },
  {
   "cell_type": "code",
   "execution_count": 5,
   "metadata": {},
   "outputs": [],
   "source": [
    "#219\n",
    "def print_arithmetic_operation(a, b):\n",
    "    print(a, \"+\", b, \"=\", a + b)\n",
    "    print(a, \"-\", b, \"=\", a - b)\n",
    "    print(a, \"*\", b, \"=\", a * b)\n",
    "    print(a, \"/\", b, \"=\", a / b)"
   ]
  },
  {
   "cell_type": "code",
   "execution_count": 6,
   "metadata": {},
   "outputs": [
    {
     "name": "stdout",
     "output_type": "stream",
     "text": [
      "3 + 4 = 7\n",
      "3 - 4 = -1\n",
      "3 * 4 = 12\n",
      "3 / 4 = 0.75\n"
     ]
    }
   ],
   "source": [
    "print_arithmetic_operation(3, 4)"
   ]
  },
  {
   "cell_type": "code",
   "execution_count": 9,
   "metadata": {},
   "outputs": [],
   "source": [
    "#220\n",
    "def print_max(a, b, c):\n",
    "    if a > b:\n",
    "        if a > c:\n",
    "            print(a)\n",
    "        else: print(c)\n",
    "    elif b > c:\n",
    "        print(b)\n",
    "    else: print(c)"
   ]
  },
  {
   "cell_type": "code",
   "execution_count": null,
   "metadata": {},
   "outputs": [],
   "source": [
    "def print_max(a, b, c):\n",
    "    max_val = 0\n",
    "    if a > max_val:\n",
    "        max_val = a\n",
    "    if b > max_val:\n",
    "        max_val = b\n",
    "    if c > max_val:\n",
    "        max_val = c\n",
    "    print(max_val)"
   ]
  },
  {
   "cell_type": "code",
   "execution_count": 17,
   "metadata": {},
   "outputs": [
    {
     "name": "stdout",
     "output_type": "stream",
     "text": [
      "4\n"
     ]
    }
   ],
   "source": [
    "print_max(2, 4, 2)"
   ]
  },
  {
   "cell_type": "code",
   "execution_count": null,
   "metadata": {},
   "outputs": [],
   "source": []
  }
 ],
 "metadata": {
  "kernelspec": {
   "display_name": "Python 3",
   "language": "python",
   "name": "python3"
  },
  "language_info": {
   "codemirror_mode": {
    "name": "ipython",
    "version": 3
   },
   "file_extension": ".py",
   "mimetype": "text/x-python",
   "name": "python",
   "nbconvert_exporter": "python",
   "pygments_lexer": "ipython3",
   "version": "3.7.9"
  }
 },
 "nbformat": 4,
 "nbformat_minor": 4
}
